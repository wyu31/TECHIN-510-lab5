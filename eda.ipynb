{
 "cells": [
  {
   "cell_type": "code",
   "execution_count": 1,
   "metadata": {},
   "outputs": [],
   "source": [
    "import pandas as pd"
   ]
  },
  {
   "cell_type": "code",
   "execution_count": 2,
   "metadata": {},
   "outputs": [
    {
     "ename": "FileNotFoundError",
     "evalue": "File ./data.json does not exist",
     "output_type": "error",
     "traceback": [
      "\u001b[0;31m---------------------------------------------------------------------------\u001b[0m",
      "\u001b[0;31mFileNotFoundError\u001b[0m                         Traceback (most recent call last)",
      "\u001b[1;32m/Users/yomaru/Desktop/TECHIN 510/Labs/TECHIN-510-lab5/eda.ipynb Cell 2\u001b[0m line \u001b[0;36m1\n\u001b[0;32m----> <a href='vscode-notebook-cell:/Users/yomaru/Desktop/TECHIN%20510/Labs/TECHIN-510-lab5/eda.ipynb#W1sZmlsZQ%3D%3D?line=0'>1</a>\u001b[0m df \u001b[39m=\u001b[39m pd\u001b[39m.\u001b[39mread_json(\u001b[39m'\u001b[39m\u001b[39m./data.json\u001b[39m\u001b[39m'\u001b[39m)\n",
      "File \u001b[0;32m~/anaconda3/envs/py/lib/python3.11/site-packages/pandas/io/json/_json.py:791\u001b[0m, in \u001b[0;36mread_json\u001b[0;34m(path_or_buf, orient, typ, dtype, convert_axes, convert_dates, keep_default_dates, precise_float, date_unit, encoding, encoding_errors, lines, chunksize, compression, nrows, storage_options, dtype_backend, engine)\u001b[0m\n\u001b[1;32m    788\u001b[0m \u001b[39mif\u001b[39;00m convert_axes \u001b[39mis\u001b[39;00m \u001b[39mNone\u001b[39;00m \u001b[39mand\u001b[39;00m orient \u001b[39m!=\u001b[39m \u001b[39m\"\u001b[39m\u001b[39mtable\u001b[39m\u001b[39m\"\u001b[39m:\n\u001b[1;32m    789\u001b[0m     convert_axes \u001b[39m=\u001b[39m \u001b[39mTrue\u001b[39;00m\n\u001b[0;32m--> 791\u001b[0m json_reader \u001b[39m=\u001b[39m JsonReader(\n\u001b[1;32m    792\u001b[0m     path_or_buf,\n\u001b[1;32m    793\u001b[0m     orient\u001b[39m=\u001b[39morient,\n\u001b[1;32m    794\u001b[0m     typ\u001b[39m=\u001b[39mtyp,\n\u001b[1;32m    795\u001b[0m     dtype\u001b[39m=\u001b[39mdtype,\n\u001b[1;32m    796\u001b[0m     convert_axes\u001b[39m=\u001b[39mconvert_axes,\n\u001b[1;32m    797\u001b[0m     convert_dates\u001b[39m=\u001b[39mconvert_dates,\n\u001b[1;32m    798\u001b[0m     keep_default_dates\u001b[39m=\u001b[39mkeep_default_dates,\n\u001b[1;32m    799\u001b[0m     precise_float\u001b[39m=\u001b[39mprecise_float,\n\u001b[1;32m    800\u001b[0m     date_unit\u001b[39m=\u001b[39mdate_unit,\n\u001b[1;32m    801\u001b[0m     encoding\u001b[39m=\u001b[39mencoding,\n\u001b[1;32m    802\u001b[0m     lines\u001b[39m=\u001b[39mlines,\n\u001b[1;32m    803\u001b[0m     chunksize\u001b[39m=\u001b[39mchunksize,\n\u001b[1;32m    804\u001b[0m     compression\u001b[39m=\u001b[39mcompression,\n\u001b[1;32m    805\u001b[0m     nrows\u001b[39m=\u001b[39mnrows,\n\u001b[1;32m    806\u001b[0m     storage_options\u001b[39m=\u001b[39mstorage_options,\n\u001b[1;32m    807\u001b[0m     encoding_errors\u001b[39m=\u001b[39mencoding_errors,\n\u001b[1;32m    808\u001b[0m     dtype_backend\u001b[39m=\u001b[39mdtype_backend,\n\u001b[1;32m    809\u001b[0m     engine\u001b[39m=\u001b[39mengine,\n\u001b[1;32m    810\u001b[0m )\n\u001b[1;32m    812\u001b[0m \u001b[39mif\u001b[39;00m chunksize:\n\u001b[1;32m    813\u001b[0m     \u001b[39mreturn\u001b[39;00m json_reader\n",
      "File \u001b[0;32m~/anaconda3/envs/py/lib/python3.11/site-packages/pandas/io/json/_json.py:904\u001b[0m, in \u001b[0;36mJsonReader.__init__\u001b[0;34m(self, filepath_or_buffer, orient, typ, dtype, convert_axes, convert_dates, keep_default_dates, precise_float, date_unit, encoding, lines, chunksize, compression, nrows, storage_options, encoding_errors, dtype_backend, engine)\u001b[0m\n\u001b[1;32m    902\u001b[0m     \u001b[39mself\u001b[39m\u001b[39m.\u001b[39mdata \u001b[39m=\u001b[39m filepath_or_buffer\n\u001b[1;32m    903\u001b[0m \u001b[39melif\u001b[39;00m \u001b[39mself\u001b[39m\u001b[39m.\u001b[39mengine \u001b[39m==\u001b[39m \u001b[39m\"\u001b[39m\u001b[39mujson\u001b[39m\u001b[39m\"\u001b[39m:\n\u001b[0;32m--> 904\u001b[0m     data \u001b[39m=\u001b[39m \u001b[39mself\u001b[39m\u001b[39m.\u001b[39m_get_data_from_filepath(filepath_or_buffer)\n\u001b[1;32m    905\u001b[0m     \u001b[39mself\u001b[39m\u001b[39m.\u001b[39mdata \u001b[39m=\u001b[39m \u001b[39mself\u001b[39m\u001b[39m.\u001b[39m_preprocess_data(data)\n",
      "File \u001b[0;32m~/anaconda3/envs/py/lib/python3.11/site-packages/pandas/io/json/_json.py:960\u001b[0m, in \u001b[0;36mJsonReader._get_data_from_filepath\u001b[0;34m(self, filepath_or_buffer)\u001b[0m\n\u001b[1;32m    952\u001b[0m     filepath_or_buffer \u001b[39m=\u001b[39m \u001b[39mself\u001b[39m\u001b[39m.\u001b[39mhandles\u001b[39m.\u001b[39mhandle\n\u001b[1;32m    953\u001b[0m \u001b[39melif\u001b[39;00m (\n\u001b[1;32m    954\u001b[0m     \u001b[39misinstance\u001b[39m(filepath_or_buffer, \u001b[39mstr\u001b[39m)\n\u001b[1;32m    955\u001b[0m     \u001b[39mand\u001b[39;00m filepath_or_buffer\u001b[39m.\u001b[39mlower()\u001b[39m.\u001b[39mendswith(\n\u001b[0;32m   (...)\u001b[0m\n\u001b[1;32m    958\u001b[0m     \u001b[39mand\u001b[39;00m \u001b[39mnot\u001b[39;00m file_exists(filepath_or_buffer)\n\u001b[1;32m    959\u001b[0m ):\n\u001b[0;32m--> 960\u001b[0m     \u001b[39mraise\u001b[39;00m \u001b[39mFileNotFoundError\u001b[39;00m(\u001b[39mf\u001b[39m\u001b[39m\"\u001b[39m\u001b[39mFile \u001b[39m\u001b[39m{\u001b[39;00mfilepath_or_buffer\u001b[39m}\u001b[39;00m\u001b[39m does not exist\u001b[39m\u001b[39m\"\u001b[39m)\n\u001b[1;32m    961\u001b[0m \u001b[39melse\u001b[39;00m:\n\u001b[1;32m    962\u001b[0m     warnings\u001b[39m.\u001b[39mwarn(\n\u001b[1;32m    963\u001b[0m         \u001b[39m\"\u001b[39m\u001b[39mPassing literal json to \u001b[39m\u001b[39m'\u001b[39m\u001b[39mread_json\u001b[39m\u001b[39m'\u001b[39m\u001b[39m is deprecated and \u001b[39m\u001b[39m\"\u001b[39m\n\u001b[1;32m    964\u001b[0m         \u001b[39m\"\u001b[39m\u001b[39mwill be removed in a future version. To read from a \u001b[39m\u001b[39m\"\u001b[39m\n\u001b[0;32m   (...)\u001b[0m\n\u001b[1;32m    967\u001b[0m         stacklevel\u001b[39m=\u001b[39mfind_stack_level(),\n\u001b[1;32m    968\u001b[0m     )\n",
      "\u001b[0;31mFileNotFoundError\u001b[0m: File ./data.json does not exist"
     ]
    }
   ],
   "source": [
    "df = pd.read_json('./data.json')"
   ]
  },
  {
   "cell_type": "code",
   "execution_count": 19,
   "metadata": {},
   "outputs": [
    {
     "data": {
      "text/html": [
       "<div>\n",
       "<style scoped>\n",
       "    .dataframe tbody tr th:only-of-type {\n",
       "        vertical-align: middle;\n",
       "    }\n",
       "\n",
       "    .dataframe tbody tr th {\n",
       "        vertical-align: top;\n",
       "    }\n",
       "\n",
       "    .dataframe thead th {\n",
       "        text-align: right;\n",
       "    }\n",
       "</style>\n",
       "<table border=\"1\" class=\"dataframe\">\n",
       "  <thead>\n",
       "    <tr style=\"text-align: right;\">\n",
       "      <th></th>\n",
       "      <th>title</th>\n",
       "      <th>date</th>\n",
       "      <th>venue</th>\n",
       "      <th>category</th>\n",
       "      <th>location</th>\n",
       "    </tr>\n",
       "  </thead>\n",
       "  <tbody>\n",
       "    <tr>\n",
       "      <th>0</th>\n",
       "      <td>Criminal</td>\n",
       "      <td>2024-02-05T00:00:00-08:00</td>\n",
       "      <td>The Moore Theatre</td>\n",
       "      <td>Theatre</td>\n",
       "      <td>Downtown</td>\n",
       "    </tr>\n",
       "    <tr>\n",
       "      <th>1</th>\n",
       "      <td>Neck Deep</td>\n",
       "      <td>2024-02-05T00:00:00-08:00</td>\n",
       "      <td>Showbox SoDo</td>\n",
       "      <td>Music</td>\n",
       "      <td>Pioneer Square</td>\n",
       "    </tr>\n",
       "    <tr>\n",
       "      <th>2</th>\n",
       "      <td>Joey Valence and Brae</td>\n",
       "      <td>2024-02-06T00:00:00-08:00</td>\n",
       "      <td>Barboza</td>\n",
       "      <td>Music</td>\n",
       "      <td>Capitol Hill / Central District</td>\n",
       "    </tr>\n",
       "    <tr>\n",
       "      <th>3</th>\n",
       "      <td>Kazu Kibuishi with Donna Barba Higuera</td>\n",
       "      <td>2024-02-06T00:00:00-08:00</td>\n",
       "      <td>Town Hall Seattle</td>\n",
       "      <td>Readings &amp; Lectures</td>\n",
       "      <td>Downtown</td>\n",
       "    </tr>\n",
       "    <tr>\n",
       "      <th>4</th>\n",
       "      <td>Kristin Hannah</td>\n",
       "      <td>2024-02-06T00:00:00-08:00</td>\n",
       "      <td>Benaroya Hall</td>\n",
       "      <td>Readings &amp; Lectures</td>\n",
       "      <td>Downtown</td>\n",
       "    </tr>\n",
       "  </tbody>\n",
       "</table>\n",
       "</div>"
      ],
      "text/plain": [
       "                                    title                       date  \\\n",
       "0                                Criminal  2024-02-05T00:00:00-08:00   \n",
       "1                               Neck Deep  2024-02-05T00:00:00-08:00   \n",
       "2                   Joey Valence and Brae  2024-02-06T00:00:00-08:00   \n",
       "3  Kazu Kibuishi with Donna Barba Higuera  2024-02-06T00:00:00-08:00   \n",
       "4                          Kristin Hannah  2024-02-06T00:00:00-08:00   \n",
       "\n",
       "               venue             category                         location  \n",
       "0  The Moore Theatre              Theatre                         Downtown  \n",
       "1       Showbox SoDo                Music                   Pioneer Square  \n",
       "2            Barboza                Music  Capitol Hill / Central District  \n",
       "3  Town Hall Seattle  Readings & Lectures                         Downtown  \n",
       "4      Benaroya Hall  Readings & Lectures                         Downtown  "
      ]
     },
     "execution_count": 19,
     "metadata": {},
     "output_type": "execute_result"
    }
   ],
   "source": [
    "df.head()"
   ]
  },
  {
   "cell_type": "code",
   "execution_count": 22,
   "metadata": {},
   "outputs": [
    {
     "data": {
      "text/html": [
       "<div>\n",
       "<style scoped>\n",
       "    .dataframe tbody tr th:only-of-type {\n",
       "        vertical-align: middle;\n",
       "    }\n",
       "\n",
       "    .dataframe tbody tr th {\n",
       "        vertical-align: top;\n",
       "    }\n",
       "\n",
       "    .dataframe thead th {\n",
       "        text-align: right;\n",
       "    }\n",
       "</style>\n",
       "<table border=\"1\" class=\"dataframe\">\n",
       "  <thead>\n",
       "    <tr style=\"text-align: right;\">\n",
       "      <th></th>\n",
       "      <th>title</th>\n",
       "      <th>date</th>\n",
       "      <th>venue</th>\n",
       "      <th>category</th>\n",
       "      <th>location</th>\n",
       "    </tr>\n",
       "  </thead>\n",
       "  <tbody>\n",
       "    <tr>\n",
       "      <th>12</th>\n",
       "      <td>An Evening with Tina Campt: Black Feminist Vis...</td>\n",
       "      <td>2024-02-08T00:00:00-08:00</td>\n",
       "      <td>Town Hall Seattle</td>\n",
       "      <td>Readings &amp; Lectures</td>\n",
       "      <td>Downtown</td>\n",
       "    </tr>\n",
       "    <tr>\n",
       "      <th>47</th>\n",
       "      <td>An Evening with Lucia Micarelli</td>\n",
       "      <td>2024-02-13T00:00:00-08:00</td>\n",
       "      <td>Dimitriou's Jazz Alley</td>\n",
       "      <td>Music</td>\n",
       "      <td>Downtown</td>\n",
       "    </tr>\n",
       "    <tr>\n",
       "      <th>51</th>\n",
       "      <td>An Evening with Lucia Micarelli :A Valentine’s...</td>\n",
       "      <td>2024-02-14T00:00:00-08:00</td>\n",
       "      <td>Dimitriou's Jazz Alley</td>\n",
       "      <td>Music</td>\n",
       "      <td>Downtown</td>\n",
       "    </tr>\n",
       "    <tr>\n",
       "      <th>241</th>\n",
       "      <td>An Evening with Jinjoo Cho</td>\n",
       "      <td>2024-04-19T00:00:00-07:00</td>\n",
       "      <td>415 Westlake</td>\n",
       "      <td>Music</td>\n",
       "      <td>Queen Anne / Seattle Center</td>\n",
       "    </tr>\n",
       "  </tbody>\n",
       "</table>\n",
       "</div>"
      ],
      "text/plain": [
       "                                                 title  \\\n",
       "12   An Evening with Tina Campt: Black Feminist Vis...   \n",
       "47                     An Evening with Lucia Micarelli   \n",
       "51   An Evening with Lucia Micarelli :A Valentine’s...   \n",
       "241                         An Evening with Jinjoo Cho   \n",
       "\n",
       "                          date                   venue             category  \\\n",
       "12   2024-02-08T00:00:00-08:00       Town Hall Seattle  Readings & Lectures   \n",
       "47   2024-02-13T00:00:00-08:00  Dimitriou's Jazz Alley                Music   \n",
       "51   2024-02-14T00:00:00-08:00  Dimitriou's Jazz Alley                Music   \n",
       "241  2024-04-19T00:00:00-07:00            415 Westlake                Music   \n",
       "\n",
       "                        location  \n",
       "12                      Downtown  \n",
       "47                      Downtown  \n",
       "51                      Downtown  \n",
       "241  Queen Anne / Seattle Center  "
      ]
     },
     "execution_count": 22,
     "metadata": {},
     "output_type": "execute_result"
    }
   ],
   "source": [
    "df[df.title.str.startswith('An Evening')]"
   ]
  },
  {
   "cell_type": "code",
   "execution_count": 13,
   "metadata": {},
   "outputs": [],
   "source": [
    "import html"
   ]
  },
  {
   "cell_type": "code",
   "execution_count": 14,
   "metadata": {},
   "outputs": [
    {
     "data": {
      "text/plain": [
       "0                  Theatre\n",
       "1                    Music\n",
       "2                    Music\n",
       "3      Readings & Lectures\n",
       "4      Readings & Lectures\n",
       "              ...         \n",
       "326                Theatre\n",
       "327                Museums\n",
       "328                Museums\n",
       "329                Museums\n",
       "330                Museums\n",
       "Name: category, Length: 331, dtype: object"
      ]
     },
     "execution_count": 14,
     "metadata": {},
     "output_type": "execute_result"
    }
   ],
   "source": [
    "df['category'].apply(lambda x: html.unescape(x))"
   ]
  },
  {
   "cell_type": "code",
   "execution_count": 15,
   "metadata": {},
   "outputs": [
    {
     "data": {
      "text/plain": [
       "category\n",
       "Music                         154\n",
       "Sports                         58\n",
       "Theatre                        39\n",
       "Museums                        36\n",
       "Readings & Lectures            23\n",
       "Festivals & Special Events     11\n",
       "Dance                           7\n",
       "Visual Arts & Galleries         2\n",
       "Film & Media Arts               1\n",
       "Name: count, dtype: int64"
      ]
     },
     "execution_count": 15,
     "metadata": {},
     "output_type": "execute_result"
    }
   ],
   "source": [
    "df.value_counts('category')"
   ]
  },
  {
   "cell_type": "code",
   "execution_count": 16,
   "metadata": {},
   "outputs": [
    {
     "data": {
      "text/plain": [
       "location\n",
       "Downtown                           132\n",
       "Queen Anne / Seattle Center         74\n",
       "Pioneer Square                      34\n",
       "Fremont / Ballard                   24\n",
       "Capitol Hill / Central District     16\n",
       "University District                 15\n",
       "South                               10\n",
       "South Seattle                        6\n",
       "Wallingford / Greenlake              6\n",
       "West                                 5\n",
       "Bellevue / Eastside                  4\n",
       "International District               4\n",
       "West Seattle                         1\n",
       "Name: count, dtype: int64"
      ]
     },
     "execution_count": 16,
     "metadata": {},
     "output_type": "execute_result"
    }
   ],
   "source": [
    "df.value_counts('location')"
   ]
  }
 ],
 "metadata": {
  "kernelspec": {
   "display_name": "Python 3",
   "language": "python",
   "name": "python3"
  },
  "language_info": {
   "codemirror_mode": {
    "name": "ipython",
    "version": 3
   },
   "file_extension": ".py",
   "mimetype": "text/x-python",
   "name": "python",
   "nbconvert_exporter": "python",
   "pygments_lexer": "ipython3",
   "version": "3.11.5"
  }
 },
 "nbformat": 4,
 "nbformat_minor": 2
}
